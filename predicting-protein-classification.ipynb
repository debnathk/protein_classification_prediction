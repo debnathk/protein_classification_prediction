{
 "cells": [
  {
   "cell_type": "markdown",
   "metadata": {
    "_cell_guid": "b1076dfc-b9ad-4769-8c92-a6c4dae69d19",
    "_uuid": "8f2839f25d086af736a60e9eeb907d3b93b6e0e5"
   },
   "source": [
    "# Introduction\n",
    "\n",
    "## Background\n",
    "The dataset consists of many different types of macromolecules of biological signifiance. The majority of the data records are of proteins. With DNA being the precursor to RNA, which when translated, proteins are the biomolecules that are directly interacting in biological pathways and cycles. Proteins are usually centered around one or a few job which is defined by their family type. For example, we can have a protein that is from a Hydrolase group, which focuses on catalyzing hydrolysis (breaking bonds by adding water) in order to help promote destruction of chains of proteins, or other molecules. Another example would be a protein that is a transport protein, which allows other molecules such as sucrose, fructose, or even water come in and outside of the cell. \n",
    "\n",
    "## Goals\n",
    "With these proteins having different family types, a question arises if it's possible to determine a protein's family type based on sequence. There are notable search engines such as BLAST which has this capability, but it'd be interesting to see if a machine learning approach can do a good job in classifying a protein's family based on the protein sequence.\n",
    "\n",
    "### 1). Import Dataset\n",
    "To begin, the libraries and datasets are loaded. Since the sequence is of a type string, this appears to be a good opporunity to try using a CountVectorizer -- a feature extractor that is usually used with NLP machine learning models."
   ]
  },
  {
   "cell_type": "code",
   "execution_count": 1,
   "metadata": {
    "_cell_guid": "79c7e3d0-c299-4dcb-8224-4455121ee9b0",
    "_uuid": "d629ff2d2480ee46fbb7e2d37f6b5fab8052498a"
   },
   "outputs": [
    {
     "name": "stdout",
     "output_type": "stream",
     "text": [
      "Datasets have been loaded...\n"
     ]
    }
   ],
   "source": [
    "# 1). ----- Import Libraries and Datasets ------\n",
    "\n",
    "import pandas as pd\n",
    "import numpy as np\n",
    "from matplotlib import pyplot as plt\n",
    "import seaborn as sns\n",
    "from sklearn.feature_extraction.text import CountVectorizer\n",
    "from sklearn.model_selection import train_test_split\n",
    "from sklearn.metrics import accuracy_score, confusion_matrix, classification_report\n",
    "\n",
    "\n",
    "# Import Datasets\n",
    "df_seq = pd.read_csv('data/pdb_data_seq.csv')\n",
    "df_char = pd.read_csv('data/pdb_data_no_dups.csv')\n",
    "\n",
    "print('Datasets have been loaded...')"
   ]
  },
  {
   "cell_type": "markdown",
   "metadata": {
    "_cell_guid": "3104edfa-9226-4e08-ab18-5dde3ea134c5",
    "_uuid": "25cb3515e7b4bffd01e569c29e2bd2335c24975b"
   },
   "source": [
    "### 2) Filter and Process Data\n",
    "With the data loaded into two seperate pandas dataframes, a filter, project, and a join must be performed to get the data together. A good library here to check out is the dfply, which is similar to the dplyr library from R. Nevertheless, pandas offers a way to perform these SQL-like commands. Begin by first filtering the datasets where the classification is equal to 'Protein', followed by removing all other variables  other than structureId and sequence for the data_seq_csv, and structureId and classification in the no_dups dataset."
   ]
  },
  {
   "cell_type": "code",
   "execution_count": 2,
   "metadata": {
    "_cell_guid": "0c35672e-2016-4ad7-9e00-a255a3014189",
    "_uuid": "bacb00012c98fcf2980d1050b4b7da4a1fe77756"
   },
   "outputs": [
    {
     "data": {
      "text/html": [
       "<div>\n",
       "<style scoped>\n",
       "    .dataframe tbody tr th:only-of-type {\n",
       "        vertical-align: middle;\n",
       "    }\n",
       "\n",
       "    .dataframe tbody tr th {\n",
       "        vertical-align: top;\n",
       "    }\n",
       "\n",
       "    .dataframe thead th {\n",
       "        text-align: right;\n",
       "    }\n",
       "</style>\n",
       "<table border=\"1\" class=\"dataframe\">\n",
       "  <thead>\n",
       "    <tr style=\"text-align: right;\">\n",
       "      <th></th>\n",
       "      <th>structureId</th>\n",
       "      <th>sequence</th>\n",
       "    </tr>\n",
       "  </thead>\n",
       "  <tbody>\n",
       "    <tr>\n",
       "      <th>4</th>\n",
       "      <td>101M</td>\n",
       "      <td>MVLSEGEWQLVLHVWAKVEADVAGHGQDILIRLFKSHPETLEKFDR...</td>\n",
       "    </tr>\n",
       "    <tr>\n",
       "      <th>7</th>\n",
       "      <td>102L</td>\n",
       "      <td>MNIFEMLRIDEGLRLKIYKDTEGYYTIGIGHLLTKSPSLNAAAKSE...</td>\n",
       "    </tr>\n",
       "    <tr>\n",
       "      <th>8</th>\n",
       "      <td>102M</td>\n",
       "      <td>MVLSEGEWQLVLHVWAKVEADVAGHGQDILIRLFKSHPETLEKFDR...</td>\n",
       "    </tr>\n",
       "    <tr>\n",
       "      <th>11</th>\n",
       "      <td>103L</td>\n",
       "      <td>MNIFEMLRIDEGLRLKIYKDTEGYYTIGIGHLLTKSPSLNSLDAAK...</td>\n",
       "    </tr>\n",
       "    <tr>\n",
       "      <th>12</th>\n",
       "      <td>103M</td>\n",
       "      <td>MVLSEGEWQLVLHVWAKVEADVAGHGQDILIRLFKSHPETLEKFDR...</td>\n",
       "    </tr>\n",
       "  </tbody>\n",
       "</table>\n",
       "</div>"
      ],
      "text/plain": [
       "   structureId                                           sequence\n",
       "4         101M  MVLSEGEWQLVLHVWAKVEADVAGHGQDILIRLFKSHPETLEKFDR...\n",
       "7         102L  MNIFEMLRIDEGLRLKIYKDTEGYYTIGIGHLLTKSPSLNAAAKSE...\n",
       "8         102M  MVLSEGEWQLVLHVWAKVEADVAGHGQDILIRLFKSHPETLEKFDR...\n",
       "11        103L  MNIFEMLRIDEGLRLKIYKDTEGYYTIGIGHLLTKSPSLNSLDAAK...\n",
       "12        103M  MVLSEGEWQLVLHVWAKVEADVAGHGQDILIRLFKSHPETLEKFDR..."
      ]
     },
     "execution_count": 2,
     "metadata": {},
     "output_type": "execute_result"
    }
   ],
   "source": [
    "# 2). ----- Filter and Process Dataset ------\n",
    "\n",
    "# Filter for only proteins\n",
    "protein_char = df_char[df_char.macromoleculeType == 'Protein']\n",
    "protein_seq = df_seq[df_seq.macromoleculeType == 'Protein']\n",
    "\n",
    "# Select only necessary variables to join\n",
    "protein_char = protein_char[['structureId','classification']]\n",
    "protein_seq = protein_seq[['structureId','sequence']]\n",
    "protein_seq.head()\n",
    "\n"
   ]
  },
  {
   "cell_type": "code",
   "execution_count": 3,
   "metadata": {
    "_cell_guid": "bb922eee-7702-4480-942f-2680672b0dde",
    "_uuid": "9de9178ead50ac2f049546e54186d75f77e7cb21"
   },
   "outputs": [
    {
     "data": {
      "text/html": [
       "<div>\n",
       "<style scoped>\n",
       "    .dataframe tbody tr th:only-of-type {\n",
       "        vertical-align: middle;\n",
       "    }\n",
       "\n",
       "    .dataframe tbody tr th {\n",
       "        vertical-align: top;\n",
       "    }\n",
       "\n",
       "    .dataframe thead th {\n",
       "        text-align: right;\n",
       "    }\n",
       "</style>\n",
       "<table border=\"1\" class=\"dataframe\">\n",
       "  <thead>\n",
       "    <tr style=\"text-align: right;\">\n",
       "      <th></th>\n",
       "      <th>structureId</th>\n",
       "      <th>classification</th>\n",
       "    </tr>\n",
       "  </thead>\n",
       "  <tbody>\n",
       "    <tr>\n",
       "      <th>2</th>\n",
       "      <td>101M</td>\n",
       "      <td>OXYGEN TRANSPORT</td>\n",
       "    </tr>\n",
       "    <tr>\n",
       "      <th>4</th>\n",
       "      <td>102L</td>\n",
       "      <td>HYDROLASE(O-GLYCOSYL)</td>\n",
       "    </tr>\n",
       "    <tr>\n",
       "      <th>5</th>\n",
       "      <td>102M</td>\n",
       "      <td>OXYGEN TRANSPORT</td>\n",
       "    </tr>\n",
       "    <tr>\n",
       "      <th>7</th>\n",
       "      <td>103L</td>\n",
       "      <td>HYDROLASE(O-GLYCOSYL)</td>\n",
       "    </tr>\n",
       "    <tr>\n",
       "      <th>8</th>\n",
       "      <td>103M</td>\n",
       "      <td>OXYGEN TRANSPORT</td>\n",
       "    </tr>\n",
       "  </tbody>\n",
       "</table>\n",
       "</div>"
      ],
      "text/plain": [
       "  structureId         classification\n",
       "2        101M       OXYGEN TRANSPORT\n",
       "4        102L  HYDROLASE(O-GLYCOSYL)\n",
       "5        102M       OXYGEN TRANSPORT\n",
       "7        103L  HYDROLASE(O-GLYCOSYL)\n",
       "8        103M       OXYGEN TRANSPORT"
      ]
     },
     "execution_count": 3,
     "metadata": {},
     "output_type": "execute_result"
    }
   ],
   "source": [
    "protein_char.head()"
   ]
  },
  {
   "cell_type": "markdown",
   "metadata": {
    "_cell_guid": "2735742e-61f2-412c-ad2f-eca4eb65ed08",
    "_uuid": "529d76e7aac28a71bee72fc4c96ccf214de8a253"
   },
   "source": [
    "The protein_seq correctly contains proteins as different sequences start with Methoinine, as well as sequences containing more letters than 'ACTG'. We can now perform a join using structureId as the index. We'll utilize pandas 'join' method. To do this, we have to set the index for each dataframe to be 'structureId'. "
   ]
  },
  {
   "cell_type": "code",
   "execution_count": 4,
   "metadata": {
    "_cell_guid": "97271501-3883-4a90-9331-c8dc39e32a9c",
    "_uuid": "e97a96cb92c584100131c45352f928222987fd63"
   },
   "outputs": [
    {
     "data": {
      "text/html": [
       "<div>\n",
       "<style scoped>\n",
       "    .dataframe tbody tr th:only-of-type {\n",
       "        vertical-align: middle;\n",
       "    }\n",
       "\n",
       "    .dataframe tbody tr th {\n",
       "        vertical-align: top;\n",
       "    }\n",
       "\n",
       "    .dataframe thead th {\n",
       "        text-align: right;\n",
       "    }\n",
       "</style>\n",
       "<table border=\"1\" class=\"dataframe\">\n",
       "  <thead>\n",
       "    <tr style=\"text-align: right;\">\n",
       "      <th></th>\n",
       "      <th>classification</th>\n",
       "      <th>sequence</th>\n",
       "    </tr>\n",
       "    <tr>\n",
       "      <th>structureId</th>\n",
       "      <th></th>\n",
       "      <th></th>\n",
       "    </tr>\n",
       "  </thead>\n",
       "  <tbody>\n",
       "    <tr>\n",
       "      <th>101M</th>\n",
       "      <td>OXYGEN TRANSPORT</td>\n",
       "      <td>MVLSEGEWQLVLHVWAKVEADVAGHGQDILIRLFKSHPETLEKFDR...</td>\n",
       "    </tr>\n",
       "    <tr>\n",
       "      <th>102L</th>\n",
       "      <td>HYDROLASE(O-GLYCOSYL)</td>\n",
       "      <td>MNIFEMLRIDEGLRLKIYKDTEGYYTIGIGHLLTKSPSLNAAAKSE...</td>\n",
       "    </tr>\n",
       "    <tr>\n",
       "      <th>102M</th>\n",
       "      <td>OXYGEN TRANSPORT</td>\n",
       "      <td>MVLSEGEWQLVLHVWAKVEADVAGHGQDILIRLFKSHPETLEKFDR...</td>\n",
       "    </tr>\n",
       "    <tr>\n",
       "      <th>103L</th>\n",
       "      <td>HYDROLASE(O-GLYCOSYL)</td>\n",
       "      <td>MNIFEMLRIDEGLRLKIYKDTEGYYTIGIGHLLTKSPSLNSLDAAK...</td>\n",
       "    </tr>\n",
       "    <tr>\n",
       "      <th>103M</th>\n",
       "      <td>OXYGEN TRANSPORT</td>\n",
       "      <td>MVLSEGEWQLVLHVWAKVEADVAGHGQDILIRLFKSHPETLEKFDR...</td>\n",
       "    </tr>\n",
       "  </tbody>\n",
       "</table>\n",
       "</div>"
      ],
      "text/plain": [
       "                    classification  \\\n",
       "structureId                          \n",
       "101M              OXYGEN TRANSPORT   \n",
       "102L         HYDROLASE(O-GLYCOSYL)   \n",
       "102M              OXYGEN TRANSPORT   \n",
       "103L         HYDROLASE(O-GLYCOSYL)   \n",
       "103M              OXYGEN TRANSPORT   \n",
       "\n",
       "                                                      sequence  \n",
       "structureId                                                     \n",
       "101M         MVLSEGEWQLVLHVWAKVEADVAGHGQDILIRLFKSHPETLEKFDR...  \n",
       "102L         MNIFEMLRIDEGLRLKIYKDTEGYYTIGIGHLLTKSPSLNAAAKSE...  \n",
       "102M         MVLSEGEWQLVLHVWAKVEADVAGHGQDILIRLFKSHPETLEKFDR...  \n",
       "103L         MNIFEMLRIDEGLRLKIYKDTEGYYTIGIGHLLTKSPSLNSLDAAK...  \n",
       "103M         MVLSEGEWQLVLHVWAKVEADVAGHGQDILIRLFKSHPETLEKFDR...  "
      ]
     },
     "execution_count": 4,
     "metadata": {},
     "output_type": "execute_result"
    }
   ],
   "source": [
    "# Join two datasets on structureId\n",
    "model_f = protein_char.set_index('structureId').join(protein_seq.set_index('structureId'))\n",
    "model_f.head()"
   ]
  },
  {
   "cell_type": "code",
   "execution_count": 5,
   "metadata": {
    "_cell_guid": "6bc0457b-6027-4a91-9783-2bf5c5e8a2f5",
    "_uuid": "1ea5e3793c87e53fa8913a937088f51aa8b8cd94"
   },
   "outputs": [
    {
     "name": "stdout",
     "output_type": "stream",
     "text": [
      "346325 is the number of rows in the joined dataset\n"
     ]
    }
   ],
   "source": [
    "print('%d is the number of rows in the joined dataset' %model_f.shape[0])"
   ]
  },
  {
   "cell_type": "markdown",
   "metadata": {
    "_cell_guid": "844faa5d-9ab6-4287-b5dc-f3275b34ba95",
    "_uuid": "e1a05887258fce7815ec9daa7d32862fe6e252d2"
   },
   "source": [
    "The two dataframes have officially been joined into one with 346,325 proteins. The data processing is not finished as it's important to take a look at the misingness associated with the columns."
   ]
  },
  {
   "cell_type": "code",
   "execution_count": 6,
   "metadata": {
    "_cell_guid": "6cf0a75c-90bc-4540-9081-778ab77bb30c",
    "_uuid": "168b06942cf1b48c774b43d946668b6fd44f0541"
   },
   "outputs": [
    {
     "data": {
      "text/plain": [
       "classification    1\n",
       "sequence          3\n",
       "dtype: int64"
      ]
     },
     "execution_count": 6,
     "metadata": {},
     "output_type": "execute_result"
    }
   ],
   "source": [
    "# Check NA counts\n",
    "model_f.isnull().sum()"
   ]
  },
  {
   "cell_type": "markdown",
   "metadata": {
    "_cell_guid": "83feb4d4-0349-4346-b1f6-c842cbd79738",
    "_uuid": "41600d9b978d2822c5f3f31cf4637eb7ae817b68"
   },
   "source": [
    "With 346,325 proteins, it appears that simply removing missing values is acceptable."
   ]
  },
  {
   "cell_type": "code",
   "execution_count": 7,
   "metadata": {
    "_cell_guid": "8cdf826b-8411-492c-8f86-1ae20654fc83",
    "_uuid": "a9f687d00de76235252d6861db77e34ed1ffffc7"
   },
   "outputs": [
    {
     "name": "stdout",
     "output_type": "stream",
     "text": [
      "346321 is the number of proteins that have a classification and sequence\n"
     ]
    }
   ],
   "source": [
    "# Drop rows with missing values\n",
    "model_f = model_f.dropna()\n",
    "print('%d is the number of proteins that have a classification and sequence' %model_f.shape[0])"
   ]
  },
  {
   "cell_type": "markdown",
   "metadata": {
    "_cell_guid": "d7398007-09e5-4f09-b0a1-983763f137a2",
    "_uuid": "e10085fbf4c19c9dfa2c0c034a451fb62a88d456"
   },
   "source": [
    "Lastly, it's important to look at the types of family groups that clasification can be."
   ]
  },
  {
   "cell_type": "code",
   "execution_count": 8,
   "metadata": {
    "_cell_guid": "a6dec8f9-ddf9-4a97-b542-b4351c3caf6b",
    "_uuid": "a084598f3f86b9ff7ef9b7fc3ab979d77cd2a411"
   },
   "outputs": [
    {
     "name": "stdout",
     "output_type": "stream",
     "text": [
      "HYDROLASE                            46336\n",
      "TRANSFERASE                          36424\n",
      "OXIDOREDUCTASE                       34321\n",
      "IMMUNE SYSTEM                        15615\n",
      "LYASE                                11682\n",
      "                                     ...  \n",
      "STRUCTURAL PROTEIN, CELL CYCLE           1\n",
      "KINASE (GLYCOGEN METABOLISM)             1\n",
      "SURFACE GLYCOPROTEIN                     1\n",
      "IMMUNE SYSTEM,HYDROLASE INHIBITOR        1\n",
      "antimicrobial                            1\n",
      "Name: classification, Length: 4468, dtype: int64\n"
     ]
    },
    {
     "name": "stderr",
     "output_type": "stream",
     "text": [
      "C:\\Users\\Bumba\\Anaconda3\\lib\\site-packages\\seaborn\\distributions.py:2619: FutureWarning: `distplot` is a deprecated function and will be removed in a future version. Please adapt your code to use either `displot` (a figure-level function with similar flexibility) or `kdeplot` (an axes-level function for kernel density plots).\n",
      "  warnings.warn(msg, FutureWarning)\n"
     ]
    },
    {
     "data": {
      "image/png": "[encoded data removed]",
      "text/plain": [
       "<Figure size 432x288 with 1 Axes>"
      ]
     },
     "metadata": {
      "needs_background": "light"
     },
     "output_type": "display_data"
    }
   ],
   "source": [
    "# Look at classification type counts\n",
    "counts = model_f.classification.value_counts()\n",
    "print(counts)\n",
    "\n",
    "#plot counts\n",
    "plt.figure()\n",
    "sns.distplot(counts, hist = False, color = 'purple')\n",
    "plt.title('Count Distribution for Family Types')\n",
    "plt.ylabel('% of records')\n",
    "plt.show()"
   ]
  },
  {
   "cell_type": "markdown",
   "metadata": {
    "_cell_guid": "ae9e3dbe-92a9-43fb-8e72-fdd00f9da403",
    "_uuid": "6302970b8badab11d307de687d61f3e6b5546f41"
   },
   "source": [
    "There appears to be a wide distribution of counts for family types. It may be a good idea to filter for having a certain amount of recordes that are of a specific family type. 1,000 seems like a solid number that will allow a machine learning model to learn a pattern for a specific class."
   ]
  },
  {
   "cell_type": "code",
   "execution_count": 9,
   "metadata": {
    "_cell_guid": "315ea977-e678-4adf-be42-2780a2273fa1",
    "_uuid": "9708d8e9444e8bafae6042eeaa7cfa7e61763e83"
   },
   "outputs": [
    {
     "name": "stdout",
     "output_type": "stream",
     "text": [
      "['HYDROLASE' 'TRANSFERASE' 'OXIDOREDUCTASE' 'IMMUNE SYSTEM' 'LYASE'\n",
      " 'HYDROLASE/HYDROLASE INHIBITOR' 'TRANSCRIPTION' 'VIRAL PROTEIN'\n",
      " 'TRANSPORT PROTEIN' 'VIRUS' 'SIGNALING PROTEIN' 'ISOMERASE' 'LIGASE'\n",
      " 'MEMBRANE PROTEIN' 'PROTEIN BINDING' 'STRUCTURAL PROTEIN' 'CHAPERONE'\n",
      " 'STRUCTURAL GENOMICS, UNKNOWN FUNCTION' 'SUGAR BINDING PROTEIN'\n",
      " 'DNA BINDING PROTEIN' 'PHOTOSYNTHESIS' 'ELECTRON TRANSPORT'\n",
      " 'TRANSFERASE/TRANSFERASE INHIBITOR' 'METAL BINDING PROTEIN'\n",
      " 'CELL ADHESION' 'UNKNOWN FUNCTION' 'PROTEIN TRANSPORT' 'TOXIN'\n",
      " 'CELL CYCLE' 'RNA BINDING PROTEIN' 'DE NOVO PROTEIN' 'HORMONE'\n",
      " 'GENE REGULATION' 'OXIDOREDUCTASE/OXIDOREDUCTASE INHIBITOR' 'APOPTOSIS'\n",
      " 'MOTOR PROTEIN' 'PROTEIN FIBRIL' 'METAL TRANSPORT'\n",
      " 'VIRAL PROTEIN/IMMUNE SYSTEM' 'CONTRACTILE PROTEIN' 'FLUORESCENT PROTEIN'\n",
      " 'TRANSLATION' 'BIOSYNTHETIC PROTEIN']\n",
      "278866 is the number of records in the final filtered dataset\n"
     ]
    }
   ],
   "source": [
    "# Get classification types where counts are over 1000\n",
    "types = np.asarray(counts[(counts > 1000)].index)\n",
    "\n",
    "# Filter dataset's records for classification types > 1000\n",
    "data = model_f[model_f.classification.isin(types)]\n",
    "\n",
    "print(types)\n",
    "print('%d is the number of records in the final filtered dataset' %data.shape[0])"
   ]
  },
  {
   "cell_type": "markdown",
   "metadata": {
    "_cell_guid": "d345b884-63a8-47dc-b576-136463d6e174",
    "_uuid": "500a215db824e919b28527862ae5b4e245d6d04b"
   },
   "source": [
    "### 3). Train Test Split\n",
    "After finally filtering the dataset, a split on the data to create a training and testing set must be performed. After splitting the data, it's important to utilize the CountVectorizer to create a dictionary composed from the training dataset. This will extract individual characters or subsets of characters to gain features. An important note about using the CountVectorizer is the specification of the ngram_range. \n",
    "\n",
    "In a protein, it's not the individual amino acid in the protein that gives identification to what it's purpose is. There are secondary and tertiary structures that are formed via the bonds of the amino acids in the sequence. Furthermore, different parts of the chain can be more basic, and others can be more acidic, indicating it's important to use features that are larger than just one unit. As a result, using an ngram_range of (4,4) seems to be a legitmate choice for feature extraction. This will extract different subsets that are of length 4 allowing the amino acids to use their neighbors to aid in our classification."
   ]
  },
  {
   "cell_type": "code",
   "execution_count": 10,
   "metadata": {
    "_cell_guid": "40ce99f2-f588-4cf1-8881-7a3b7a611e47",
    "_uuid": "114ea850cc1601b8ff6b8572a82ab3400c0ec1a3"
   },
   "outputs": [
    {
     "name": "stdout",
     "output_type": "stream",
     "text": [
      "['zhhh', 'ziar', 'zigi', 'ziwz', 'zkal', 'zkky', 'zknt', 'zkyh', 'zlik', 'zlzk', 'zpvm', 'zrgd', 'zrvi', 'ztvl', 'ztzk', 'zvbd', 'zvib', 'zvka', 'zwdl', 'zzvb']\n"
     ]
    }
   ],
   "source": [
    "# 3). ----- Train Test Split -----\n",
    "\n",
    "# Split Data\n",
    "X_train, X_test,y_train,y_test = train_test_split(data['sequence'], data['classification'], test_size = 0.2, random_state = 1)\n",
    "\n",
    "# Create a Count Vectorizer to gather the unique elements in sequence\n",
    "vect = CountVectorizer(analyzer = 'char_wb', ngram_range = (4,4))\n",
    "\n",
    "# Fit and Transform CountVectorizer\n",
    "vect.fit(X_train)\n",
    "X_train_df = vect.transform(X_train)\n",
    "X_test_df = vect.transform(X_test)\n",
    "\n",
    "#Print a few of the features\n",
    "print(vect.get_feature_names()[-20:])"
   ]
  },
  {
   "cell_type": "markdown",
   "metadata": {
    "_cell_guid": "d5b4a828-a058-41c4-906d-b19c79f95846",
    "_uuid": "dca1c75dde0c093050a44c40b729f2975ce4f475"
   },
   "source": [
    "### 4). Machine Learning Models\n",
    "\n",
    "With the features extracted, it's time to use machine learning models. Traditionally a Naive Bayes approach works well for these types of count vectorized features. Adaboost will be used as well for comparison."
   ]
  },
  {
   "cell_type": "code",
   "execution_count": 11,
   "metadata": {
    "_cell_guid": "79ff35e8-5f8f-4ebe-b0b3-f271194b792a",
    "_uuid": "c9bd9bcba12e2e6891356332c41b89465ea8d6ff",
    "scrolled": true
   },
   "outputs": [
    {
     "name": "stdout",
     "output_type": "stream",
     "text": [
      "0.7638505396779861\n"
     ]
    }
   ],
   "source": [
    "# 4). ------ Machine Learning Models ------\n",
    "\n",
    "# Make a prediction dictionary to store accuracys\n",
    "prediction = dict()\n",
    "\n",
    "# Naive Bayes Model\n",
    "from sklearn.naive_bayes import MultinomialNB\n",
    "model = MultinomialNB()\n",
    "model.fit(X_train_df, y_train)\n",
    "NB_pred = model.predict(X_test_df)\n",
    "prediction[\"MultinomialNB\"] = accuracy_score(NB_pred, y_test)\n",
    "print( prediction['MultinomialNB'])"
   ]
  },
  {
   "cell_type": "code",
   "execution_count": 12,
   "metadata": {
    "_cell_guid": "4b0c9fad-a294-4780-8a76-38772095f1d4",
    "_uuid": "4ccc7c87d4504bbe818ca5b3cb6b7db9d9679184"
   },
   "outputs": [
    {
     "name": "stdout",
     "output_type": "stream",
     "text": [
      "0.18614408147165346\n"
     ]
    }
   ],
   "source": [
    "# Adaboost\n",
    "from sklearn.ensemble import AdaBoostClassifier\n",
    "model = AdaBoostClassifier()\n",
    "model.fit(X_train_df,y_train)\n",
    "ADA_pred = model.predict(X_test_df)\n",
    "prediction[\"Adaboost\"] = accuracy_score(ADA_pred , y_test)\n",
    "print(prediction[\"Adaboost\"])"
   ]
  },
  {
   "cell_type": "markdown",
   "metadata": {
    "_cell_guid": "e697e42c-656c-47a9-8da4-5d56e54f8aef",
    "_uuid": "a81e40860024944997d99d2a7c43c79537d7e965"
   },
   "source": [
    "###5). Visualize Metrics\n",
    "It appears that Naive Bayes does better in classification than Adaboost. A visualization of a confusion matrix and a clasification report for the Navie Bayes prediction can aid in where the model performs poorly."
   ]
  },
  {
   "cell_type": "code",
   "execution_count": 13,
   "metadata": {
    "_cell_guid": "f2f52531-232c-430e-bbbe-4394c44d8ae9",
    "_uuid": "2b4fe4c714d989b2970198c9e73d843382c23726"
   },
   "outputs": [
    {
     "data": {
      "text/plain": [
       "<AxesSubplot:>"
      ]
     },
     "execution_count": 13,
     "metadata": {},
     "output_type": "execute_result"
    },
    {
     "data": {
      "image/png": "[encoded data removed]",
      "text/plain": [
       "<Figure size 936x576 with 2 Axes>"
      ]
     },
     "metadata": {
      "needs_background": "light"
     },
     "output_type": "display_data"
    }
   ],
   "source": [
    "# 5). ----- Plot Confusion Matrix for NB -----\n",
    "\n",
    "# Plot confusion matrix\n",
    "conf_mat = confusion_matrix(y_test, NB_pred, labels = types)\n",
    "\n",
    "#Normalize confusion_matrix\n",
    "conf_mat = conf_mat.astype('float')/ conf_mat.sum(axis=1)[:, np.newaxis]\n",
    "\n",
    "# Plot Heat Map\n",
    "fig , ax = plt.subplots()\n",
    "fig.set_size_inches(13, 8)\n",
    "sns.heatmap(conf_mat)"
   ]
  },
  {
   "cell_type": "markdown",
   "metadata": {
    "_cell_guid": "5febce28-c4ec-4919-8e49-3c296915cb85",
    "_uuid": "07795bc135000576335758abefc0af5bd04f3fed"
   },
   "source": [
    "The confusion matrix shows label index 3 being misclassified as index 38 quite a bit. Based on the names listed below, it makes sense for these two to be confused."
   ]
  },
  {
   "cell_type": "code",
   "execution_count": 14,
   "metadata": {
    "_cell_guid": "ffb8245d-5094-4cdd-9478-1659989bc468",
    "_uuid": "49c43f6e2fd731d3fd7213e7a64e90aee6546361"
   },
   "outputs": [
    {
     "name": "stdout",
     "output_type": "stream",
     "text": [
      "IMMUNE SYSTEM\n",
      "VIRAL PROTEIN/IMMUNE SYSTEM\n"
     ]
    }
   ],
   "source": [
    "print(types[3])\n",
    "print(types[38])"
   ]
  },
  {
   "cell_type": "markdown",
   "metadata": {
    "_uuid": "bc850a72a5dc8a1d347bc83b2c9ad5c28db23ccb"
   },
   "source": [
    "Lastly, a matrix of the classification report to show case metrics for each class should be insightful"
   ]
  },
  {
   "cell_type": "code",
   "execution_count": 15,
   "metadata": {
    "_uuid": "325c030ba4b49928c869ea2a95cb390ff26ce870"
   },
   "outputs": [
    {
     "name": "stdout",
     "output_type": "stream",
     "text": [
      "                                         precision    recall  f1-score   support\n",
      "\n",
      "                              HYDROLASE       0.47      0.74      0.57       250\n",
      "                            TRANSFERASE       0.60      0.82      0.70       211\n",
      "                         OXIDOREDUCTASE       0.75      0.77      0.76       589\n",
      "                          IMMUNE SYSTEM       0.66      0.72      0.69       509\n",
      "                                  LYASE       0.91      0.76      0.83       859\n",
      "          HYDROLASE/HYDROLASE INHIBITOR       0.66      0.88      0.76       224\n",
      "                          TRANSCRIPTION       0.58      0.83      0.68       326\n",
      "                          VIRAL PROTEIN       0.71      0.78      0.75       622\n",
      "                      TRANSPORT PROTEIN       0.60      0.74      0.66       601\n",
      "                                  VIRUS       0.91      0.97      0.94       209\n",
      "                      SIGNALING PROTEIN       0.71      0.73      0.72       309\n",
      "                              ISOMERASE       0.49      0.96      0.65       293\n",
      "                                 LIGASE       0.77      0.78      0.77      9274\n",
      "                       MEMBRANE PROTEIN       0.67      0.76      0.71      2228\n",
      "                        PROTEIN BINDING       0.87      0.76      0.82      3204\n",
      "                     STRUCTURAL PROTEIN       0.94      0.86      0.90      1312\n",
      "                              CHAPERONE       0.87      0.80      0.84       963\n",
      "  STRUCTURAL GENOMICS, UNKNOWN FUNCTION       0.94      0.87      0.90      2324\n",
      "                  SUGAR BINDING PROTEIN       0.68      0.66      0.67       991\n",
      "                    DNA BINDING PROTEIN       0.70      0.72      0.71       607\n",
      "                         PHOTOSYNTHESIS       0.62      0.78      0.69       237\n",
      "                     ELECTRON TRANSPORT       0.52      0.59      0.55       251\n",
      "      TRANSFERASE/TRANSFERASE INHIBITOR       0.93      0.79      0.85      6895\n",
      "                  METAL BINDING PROTEIN       0.37      0.91      0.53       308\n",
      "                          CELL ADHESION       0.81      0.87      0.84       686\n",
      "                       UNKNOWN FUNCTION       0.53      0.59      0.56       953\n",
      "                      PROTEIN TRANSPORT       0.81      0.94      0.87       269\n",
      "                                  TOXIN       0.73      0.70      0.71       526\n",
      "                             CELL CYCLE       0.64      0.81      0.72       396\n",
      "                    RNA BINDING PROTEIN       0.76      0.62      0.68      1284\n",
      "                        DE NOVO PROTEIN       0.48      0.76      0.59       710\n",
      "                                HORMONE       0.86      0.57      0.69       884\n",
      "                        GENE REGULATION       0.84      0.89      0.86       690\n",
      "OXIDOREDUCTASE/OXIDOREDUCTASE INHIBITOR       0.79      0.81      0.80       541\n",
      "                              APOPTOSIS       0.81      0.70      0.75      1652\n",
      "                          MOTOR PROTEIN       0.78      0.77      0.77      7262\n",
      "                         PROTEIN FIBRIL       0.35      0.83      0.49       614\n",
      "                        METAL TRANSPORT       0.69      0.79      0.73       209\n",
      "            VIRAL PROTEIN/IMMUNE SYSTEM       0.82      0.59      0.69      1641\n",
      "                    CONTRACTILE PROTEIN       0.73      0.73      0.73       583\n",
      "                    FLUORESCENT PROTEIN       0.86      0.66      0.74      1703\n",
      "                            TRANSLATION       0.41      0.54      0.46       224\n",
      "                   BIOSYNTHETIC PROTEIN       0.87      0.86      0.86      1351\n",
      "\n",
      "                               accuracy                           0.76     55774\n",
      "                              macro avg       0.71      0.77      0.73     55774\n",
      "                           weighted avg       0.79      0.76      0.77     55774\n",
      "\n"
     ]
    }
   ],
   "source": [
    "#Print F1 score metrics\n",
    "print(classification_report(y_test, NB_pred, target_names = types))"
   ]
  },
  {
   "cell_type": "markdown",
   "metadata": {
    "_uuid": "6f4674cfbd1a43d656474a3862fe05b3569a8be5"
   },
   "source": [
    "### Reasons for Model Error\n",
    "Proteins in general can be a type of enzyme, or a signaling protein, structural, and various other choices. A lof of proteins tend to share very similar characteristics, as some proteins are meant to bind in similar regions as others. For example, a Hydrolase enzyme and a Hydrolase inhibitor protein are going to have similar structures as they will target very similar areas. This is reflected in the confusion matrix and heat map. Gene regulator proteins will have a similarity to RNA binding proteins, DNA binding proteins, as well as transcription proteins.  The biggest thing to note as well, as the model only uses features of 4 amino acids at most. The possibility of utilizing amino acids of higher degree in theory should be able to create an even higher accuracy.\n",
    "\n",
    "### Future Work\n",
    "There is definitely room for improvement for the model. Utilizing factors such as pH, molecular weight, and other components may be able to yield more information on family group. Furthermore, if possible, increase the length of the ngram_range to include more than just 4 characters to allow for higher interaction between the amino acids as reflected in reality\n",
    "\n"
   ]
  }
 ],
 "metadata": {
  "kernelspec": {
   "display_name": "Python 3 (ipykernel)",
   "language": "python",
   "name": "python3"
  },
  "language_info": {
   "codemirror_mode": {
    "name": "ipython",
    "version": 3
   },
   "file_extension": ".py",
   "mimetype": "text/x-python",
   "name": "python",
   "nbconvert_exporter": "python",
   "pygments_lexer": "ipython3",
   "version": "3.7.11"
  }
 },
 "nbformat": 4,
 "nbformat_minor": 1
}
